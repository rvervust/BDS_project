{
 "cells": [
  {
   "cell_type": "code",
   "execution_count": null,
   "metadata": {
    "collapsed": true
   },
   "outputs": [],
   "source": [
    "import pandas as pd\n",
    "import numpy as np"
   ]
  },
  {
   "cell_type": "code",
   "execution_count": null,
   "metadata": {
    "collapsed": true
   },
   "outputs": [],
   "source": [
    "import datetime\n",
    "from selenium import webdriver\n",
    "import pandas as pd\n",
    "import requests\n",
    "import matplotlib.pylab as plt\n",
    "import numpy as np\n",
    "from collections import Counter\n",
    "%matplotlib inline"
   ]
  },
  {
   "cell_type": "code",
   "execution_count": null,
   "metadata": {},
   "outputs": [],
   "source": [
    "#Windows:\n",
    "driver = webdriver.Chrome(\"C:\\Program Files\\chromedriver_win32\\chromedriver.exe\")"
   ]
  },
  {
   "cell_type": "code",
   "execution_count": null,
   "metadata": {
    "collapsed": true
   },
   "outputs": [],
   "source": [
    "def getGlobalResults(dateResults):\n",
    "    # Number of tickets that won a price\n",
    "    if driver.find_element_by_css_selector(\"#content div.infoBox div.row.figures div.box:first-of-type div.big\"):\n",
    "        numberOfTicketsThatWonAPrice = driver.find_element_by_css_selector(\"#content div.infoBox div.row.figures div.box:first-of-type div.big\").text\n",
    "        # print(numberOfTicketsThatWonAPrice)\n",
    "    else:\n",
    "        print(\"fout in aantalTicketsDieEenPrijsWonnen\")\n",
    "  \n",
    "    # Number of entries that were purchased\n",
    "    if driver.find_element_by_css_selector(\"#content div.infoBox div.row.figures div.box.entries div.big\"):\n",
    "        numberOfEntriesPurchased = driver.find_element_by_css_selector(\"#content div.infoBox div.row.figures div.box.entries div.big\").text\n",
    "        # print(numberOfEntriesPurchased)\n",
    "    else:\n",
    "        print(\"fout in numberOfEntriesPurchased\")\n",
    "    \n",
    "    # PercentageOfTicketsThatWonAPrice\n",
    "    if driver.find_element_by_css_selector(\"#content div.infoBox div.row.figures div.box:last-of-type div.big\"):\n",
    "        percentageOfTicketsThatWonAPrice = driver.find_element_by_css_selector(\"#content div.infoBox div.row.figures div.box:last-of-type div.big\").text\n",
    "        # print(percentageOfTicketsThatWonAPrice)\n",
    "    else:\n",
    "        print(\"fout in percentageOfTicketsThatWonAPrice\")\n",
    "    euromillionsGlobalResultsfile.write(dateResults + \";\" + numberOfEntriesPurchased + \";\" + numberOfTicketsThatWonAPrice + \";\" + percentageOfTicketsThatWonAPrice + \"\\n\")"
   ]
  },
  {
   "cell_type": "code",
   "execution_count": null,
   "metadata": {
    "collapsed": true
   },
   "outputs": [],
   "source": [
    "def getSpecificResultsBelgium(dateResults):\n",
    "    if driver.find_elements_by_css_selector(\"#content > table.breakdown.mobFormat > tbody > tr\"):\n",
    "        selections = driver.find_elements_by_css_selector(\"#content > table.breakdown.mobFormat > tbody > tr\")\n",
    "        for s in selections:\n",
    "            try:\n",
    "                if s.find_elements_by_css_selector(\"td\"):  \n",
    "                    numbersMatched = s.find_element_by_css_selector(\"td[data-title='Numbers Matched']\").text\n",
    "                    # print(numbersMatched)\n",
    "                    prizePerWinner = s.find_element_by_css_selector(\"td[data-title='Prize Per Winner']\").text\n",
    "                    # print(prizePerWinner)\n",
    "                    prizeWinners = s.find_element_by_css_selector(\"td[data-title='Belgian Winners']\").text\n",
    "                    # print(prizeWinners)\n",
    "                    prizeFundAmount = s.find_element_by_css_selector(\"td[data-title='Prize Fund Amount']\").text\n",
    "                    # print(prizeFundAmount)\n",
    "                    prizeTotalWinners = s.find_element_by_css_selector(\"td[data-title='Total Winners']\").text\n",
    "                    # print(prizeTotalWinners)\n",
    "                    euromillionsSpecificResultsfile.write(dateResults + \";BE;\" + numbersMatched + \";\" + prizePerWinner[1:] + \";\" + prizeWinners + \";\" + prizeFundAmount[1:] + \";\" + prizeTotalWinners + \"\\n\")\n",
    "            except:\n",
    "                print(\"Er is iets fout gegaan\")\n",
    "            \n",
    "    else:\n",
    "        print(\"fout in aantalTicketsDieEenPrijsWonnen\")"
   ]
  },
  {
   "cell_type": "code",
   "execution_count": null,
   "metadata": {
    "collapsed": true
   },
   "outputs": [],
   "source": [
    "def getSpecificResultsGB(dateResults):\n",
    "    if driver.find_elements_by_css_selector(\"#PrizeGB table.breakdown.mobFormat tr\"):\n",
    "        selections = driver.find_elements_by_css_selector(\"#PrizeGB table.breakdown.mobFormat tr\")\n",
    "        for s in selections:\n",
    "            try:\n",
    "                if s.find_elements_by_css_selector(\"td\"):  \n",
    "                    numbersMatched = s.find_element_by_css_selector(\"td[data-title='Numbers Matched']\").text\n",
    "                    # print(numbersMatched)\n",
    "                    prizePerWinner = s.find_element_by_css_selector(\"td[data-title='Prize Per Winner']\").text\n",
    "                    # print(prizePerWinner)\n",
    "                    prizeWinners = s.find_element_by_css_selector(\"td[data-title='UK Winners']\").text\n",
    "                    # print(prizeUKWinners)\n",
    "                    prizeFundAmount = s.find_element_by_css_selector(\"td[data-title='Prize Fund Amount']\").text\n",
    "                    # print(prizeFundAmount)\n",
    "                    prizeTotalWinners = s.find_element_by_css_selector(\"td[data-title='Total Winners']\").text\n",
    "                    # print(prizeTotalWinners)\n",
    "                    euromillionsSpecificResultsfile.write(dateResults + \";UK;\" + numbersMatched + \";\" + prizePerWinner[1:] + \";\" + prizeWinners + \";\" + prizeFundAmount[1:] + \";\" + prizeTotalWinners + \"\\n\")\n",
    "            except:\n",
    "                print(\"Er is iets fout gegaan\")\n",
    "            \n",
    "    else:\n",
    "        print(\"fout in aantalTicketsDieEenPrijsWonnen\")"
   ]
  },
  {
   "cell_type": "code",
   "execution_count": null,
   "metadata": {
    "collapsed": true
   },
   "outputs": [],
   "source": [
    "def getSpecificResultsIE(dateResults):\n",
    "    if driver.find_elements_by_css_selector(\"#PrizeIE table.breakdown.mobFormat tr\"):\n",
    "        selections = driver.find_elements_by_css_selector(\"#PrizeIE table.breakdown.mobFormat tr\")\n",
    "        for s in selections:\n",
    "            try:\n",
    "                if s.find_elements_by_css_selector(\"td\"):  \n",
    "                    numbersMatched = s.find_element_by_css_selector(\"td[data-title='Numbers Matched']\").get_attribute(\"innerText\")\n",
    "                    # print(numbersMatched)\n",
    "                    prizePerWinner = s.find_element_by_css_selector(\"td[data-title='Prize Per Winner']\").get_attribute(\"innerText\")\n",
    "                    # print(prizePerWinner)\n",
    "                    prizeWinners = s.find_element_by_css_selector(\"td[data-title='Irish Winners']\").get_attribute(\"innerText\")\n",
    "                    # print(prizeUKWinners)\n",
    "                    prizeFundAmount = s.find_element_by_css_selector(\"td[data-title='Prize Fund Amount']\").get_attribute(\"innerText\")\n",
    "                    # print(prizeFundAmount)\n",
    "                    prizeTotalWinners = s.find_element_by_css_selector(\"td[data-title='Total Winners']\").get_attribute(\"innerText\")\n",
    "                    # print(prizeTotalWinners)\n",
    "                    euromillionsSpecificResultsfile.write(dateResults + \";IE;\" + numbersMatched + \";\" + prizePerWinner[1:] + \";\" + prizeWinners + \";\" + prizeFundAmount[1:] + \";\" + prizeTotalWinners + \"\\n\")\n",
    "            except:\n",
    "                print(\"Er is iets fout gegaan\")\n",
    "            \n",
    "    else:\n",
    "        print(\"fout in aantalTicketsDieEenPrijsWonnen\")"
   ]
  },
  {
   "cell_type": "code",
   "execution_count": null,
   "metadata": {
    "collapsed": true
   },
   "outputs": [],
   "source": [
    "def getSpecificResultsFR(dateResults):\n",
    "    if driver.find_elements_by_css_selector(\"#PrizeFR table.breakdown.mobFormat tr\"):\n",
    "        selections = driver.find_elements_by_css_selector(\"#PrizeFR table.breakdown.mobFormat tr\")\n",
    "        for s in selections:\n",
    "            try:\n",
    "                if s.find_elements_by_css_selector(\"td\"):  \n",
    "                    numbersMatched = s.find_element_by_css_selector(\"td[data-title='Numbers Matched']\").get_attribute(\"innerText\")\n",
    "                    # print(numbersMatched)\n",
    "                    prizePerWinner = s.find_element_by_css_selector(\"td[data-title='Prize Per Winner']\").get_attribute(\"innerText\")\n",
    "                    # print(prizePerWinner)\n",
    "                    prizeWinners = s.find_element_by_css_selector(\"td[data-title='French Winners']\").get_attribute(\"innerText\")\n",
    "                    # print(prizeUKWinners)\n",
    "                    prizeFundAmount = s.find_element_by_css_selector(\"td[data-title='Prize Fund Amount']\").get_attribute(\"innerText\")\n",
    "                    # print(prizeFundAmount)\n",
    "                    prizeTotalWinners = s.find_element_by_css_selector(\"td[data-title='Total Winners']\").get_attribute(\"innerText\")\n",
    "                    # print(prizeTotalWinners)\n",
    "                    euromillionsSpecificResultsfile.write(dateResults + \";FR;\" + numbersMatched + \";\" + prizePerWinner[1:] + \";\" + prizeWinners + \";\" + prizeFundAmount[1:] + \";\" + prizeTotalWinners + \"\\n\")\n",
    "            except:\n",
    "                print(\"Er is iets fout gegaan\")\n",
    "            \n",
    "    else:\n",
    "        print(\"fout in aantalTicketsDieEenPrijsWonnen\")"
   ]
  },
  {
   "cell_type": "code",
   "execution_count": null,
   "metadata": {
    "collapsed": true
   },
   "outputs": [],
   "source": [
    "def getSpecificResultsES(dateResults):\n",
    "    if driver.find_elements_by_css_selector(\"#PrizeES table.breakdown.mobFormat tr\"):\n",
    "        selections = driver.find_elements_by_css_selector(\"#PrizeES table.breakdown.mobFormat tr\")\n",
    "        for s in selections:\n",
    "            try:\n",
    "                if s.find_elements_by_css_selector(\"td\"):  \n",
    "                    numbersMatched = s.find_element_by_css_selector(\"td[data-title='Numbers Matched']\").get_attribute(\"innerText\")\n",
    "                    # print(numbersMatched)\n",
    "                    prizePerWinner = s.find_element_by_css_selector(\"td[data-title='Prize Per Winner']\").get_attribute(\"innerText\")\n",
    "                    # print(prizePerWinner)\n",
    "                    prizeWinners = s.find_element_by_css_selector(\"td[data-title='Spanish Winners']\").get_attribute(\"innerText\")\n",
    "                    # print(prizeUKWinners)\n",
    "                    prizeFundAmount = s.find_element_by_css_selector(\"td[data-title='Prize Fund Amount']\").get_attribute(\"innerText\")\n",
    "                    # print(prizeFundAmount)\n",
    "                    prizeTotalWinners = s.find_element_by_css_selector(\"td[data-title='Total Winners']\").get_attribute(\"innerText\")\n",
    "                    # print(prizeTotalWinners)\n",
    "                    euromillionsSpecificResultsfile.write(dateResults + \";ES;\" + numbersMatched + \";\" + prizePerWinner[1:] + \";\" + prizeWinners + \";\" + prizeFundAmount[1:] + \";\" + prizeTotalWinners + \"\\n\")\n",
    "            except:\n",
    "                print(\"Er is iets fout gegaan\")\n",
    "            \n",
    "    else:\n",
    "        print(\"fout in aantalTicketsDieEenPrijsWonnen\")"
   ]
  },
  {
   "cell_type": "code",
   "execution_count": null,
   "metadata": {
    "collapsed": true
   },
   "outputs": [],
   "source": [
    "def getSpecificResultsPT(dateResults):\n",
    "    if driver.find_elements_by_css_selector(\"#PrizePT table.breakdown.mobFormat tr\"):\n",
    "        selections = driver.find_elements_by_css_selector(\"#PrizePT table.breakdown.mobFormat tr\")\n",
    "        for s in selections:\n",
    "            try:\n",
    "                if s.find_elements_by_css_selector(\"td\"):  \n",
    "                    numbersMatched = s.find_element_by_css_selector(\"td[data-title='Numbers Matched']\").get_attribute(\"innerText\")\n",
    "                    # print(numbersMatched)\n",
    "                    prizePerWinner = s.find_element_by_css_selector(\"td[data-title='Prize Per Winner']\").get_attribute(\"innerText\")\n",
    "                    # print(prizePerWinner)\n",
    "                    prizeWinners = s.find_element_by_css_selector(\"td[data-title='Portuguese Winners']\").get_attribute(\"innerText\")\n",
    "                    # print(prizeUKWinners)\n",
    "                    prizeFundAmount = s.find_element_by_css_selector(\"td[data-title='Prize Fund Amount']\").get_attribute(\"innerText\")\n",
    "                    # print(prizeFundAmount)\n",
    "                    prizeTotalWinners = s.find_element_by_css_selector(\"td[data-title='Total Winners']\").get_attribute(\"innerText\")\n",
    "                    # print(prizeTotalWinners)\n",
    "                    euromillionsSpecificResultsfile.write(dateResults + \";PT;\" + numbersMatched + \";\" + prizePerWinner[1:] + \";\" + prizeWinners + \";\" + prizeFundAmount[1:] + \";\" + prizeTotalWinners + \"\\n\")\n",
    "            except:\n",
    "                print(\"Er is iets fout gegaan\")\n",
    "            \n",
    "    else:\n",
    "        print(\"fout in aantalTicketsDieEenPrijsWonnen\")"
   ]
  },
  {
   "cell_type": "code",
   "execution_count": null,
   "metadata": {
    "collapsed": true
   },
   "outputs": [],
   "source": [
    "def getSpecificResultsCH(dateResults):\n",
    "    if driver.find_elements_by_css_selector(\"#PrizeCH table.breakdown.mobFormat tr\"):\n",
    "        selections = driver.find_elements_by_css_selector(\"#PrizeCH table.breakdown.mobFormat tr\")\n",
    "        for s in selections:\n",
    "            try:\n",
    "                if s.find_elements_by_css_selector(\"td\"):  \n",
    "                    numbersMatched = s.find_element_by_css_selector(\"td[data-title='Numbers Matched']\").get_attribute(\"innerText\")\n",
    "                    # print(numbersMatched)\n",
    "                    prizePerWinner = s.find_element_by_css_selector(\"td[data-title='Prize Per Winner']\").get_attribute(\"innerText\")\n",
    "                    # print(prizePerWinner)\n",
    "                    prizeWinners = s.find_element_by_css_selector(\"td[data-title='Luxembourgian & Swiss Winners']\").get_attribute(\"innerText\")\n",
    "                    # print(prizeUKWinners)\n",
    "                    # prizeFundAmount = s.find_element_by_css_selector(\"td[data-title='Prize Fund Amount']\").text\n",
    "                    # print(prizeFundAmount)\n",
    "                    prizeTotalWinners = s.find_element_by_css_selector(\"td[data-title='Total Winners']\").get_attribute(\"innerText\")\n",
    "                    # print(prizeTotalWinners)\n",
    "                    euromillionsSpecificResultsfile.write(dateResults + \";CH;\" + numbersMatched + \";\" + prizePerWinner[3:] + \";\" + prizeWinners + \";\" + \";\" + prizeTotalWinners + \"\\n\")\n",
    "            except:\n",
    "                print(\"Er is iets fout gegaan\")\n",
    "            \n",
    "    else:\n",
    "        print(\"fout in aantalTicketsDieEenPrijsWonnen\")"
   ]
  },
  {
   "cell_type": "code",
   "execution_count": null,
   "metadata": {
    "collapsed": true
   },
   "outputs": [],
   "source": [
    "def getSpecificResultsAT(dateResults):\n",
    "    if driver.find_elements_by_css_selector(\"#PrizeAT table.breakdown.mobFormat tr\"):\n",
    "        selections = driver.find_elements_by_css_selector(\"#PrizeAT table.breakdown.mobFormat tr\")\n",
    "        for s in selections:\n",
    "            try:\n",
    "                if s.find_elements_by_css_selector(\"td\"):  \n",
    "                    numbersMatched = s.find_element_by_css_selector(\"td[data-title='Numbers Matched']\").get_attribute(\"innerText\")\n",
    "                    # print(numbersMatched)\n",
    "                    prizePerWinner = s.find_element_by_css_selector(\"td[data-title='Prize Per Winner']\").get_attribute(\"innerText\")\n",
    "                    # print(prizePerWinner)\n",
    "                    prizeWinners = s.find_element_by_css_selector(\"td[data-title='Austrian Winners']\").get_attribute(\"innerText\")\n",
    "                    # print(prizeUKWinners)\n",
    "                    prizeFundAmount = s.find_element_by_css_selector(\"td[data-title='Prize Fund Amount']\").get_attribute(\"innerText\")\n",
    "                    # print(prizeFundAmount)\n",
    "                    prizeTotalWinners = s.find_element_by_css_selector(\"td[data-title='Total Winners']\").get_attribute(\"innerText\")\n",
    "                    # print(prizeTotalWinners)\n",
    "                    euromillionsSpecificResultsfile.write(dateResults + \";AT;\" + numbersMatched + \";\" + prizePerWinner[1:] + \";\" + prizeWinners + \";\" + prizeFundAmount[1:] + \";\" + prizeTotalWinners + \"\\n\")\n",
    "            except:\n",
    "                print(\"Er is iets fout gegaan\")\n",
    "            \n",
    "    else:\n",
    "        print(\"fout in aantalTicketsDieEenPrijsWonnen\")"
   ]
  },
  {
   "cell_type": "code",
   "execution_count": null,
   "metadata": {
    "collapsed": true
   },
   "outputs": [],
   "source": [
    "def getSpecificResultsLU(dateResults):\n",
    "    if driver.find_elements_by_css_selector(\"#PrizeLU table.breakdown.mobFormat tr\"):\n",
    "        selections = driver.find_elements_by_css_selector(\"#PrizeLU table.breakdown.mobFormat tr\")\n",
    "        for s in selections:\n",
    "            try:\n",
    "                if s.find_elements_by_css_selector(\"td\"):  \n",
    "                    numbersMatched = s.find_element_by_css_selector(\"td[data-title='Numbers Matched']\").get_attribute(\"innerText\")\n",
    "                    # print(numbersMatched)\n",
    "                    prizePerWinner = s.find_element_by_css_selector(\"td[data-title='Prize Per Winner']\").get_attribute(\"innerText\")\n",
    "                    # print(prizePerWinner)\n",
    "                    prizeWinners = s.find_element_by_css_selector(\"td[data-title='Luxembourgian & Swiss Winners']\").get_attribute(\"innerText\")\n",
    "                    # print(prizeUKWinners)\n",
    "                    # prizeFundAmount = s.find_element_by_css_selector(\"td[data-title='Prize Fund Amount']\").text\n",
    "                    # print(prizeFundAmount)\n",
    "                    prizeTotalWinners = s.find_element_by_css_selector(\"td[data-title='Total Winners']\").get_attribute(\"innerText\")\n",
    "                    # print(prizeTotalWinners)\n",
    "                    euromillionsSpecificResultsfile.write(dateResults + \";LU;\" + numbersMatched + \";\" + prizePerWinner[1:] + \";\" + prizeWinners + \";\" + \";\" + prizeTotalWinners + \"\\n\")\n",
    "\n",
    "            except:\n",
    "                print(\"Er is iets fout gegaan\")\n",
    "            \n",
    "    else:\n",
    "        print(\"fout in aantalTicketsDieEenPrijsWonnen\")"
   ]
  },
  {
   "cell_type": "code",
   "execution_count": null,
   "metadata": {
    "collapsed": true
   },
   "outputs": [],
   "source": [
    "try:\n",
    "    euromillionsGlobalResultsfile = open(\"C:\\\\Users\\\\svre257\\\\Documents\\\\Lesgeven Voorjaar 2020\\\\UGent\\\\Big Data Science\\\\Project\\\\euromillionsGlobalResults_final.csv\", \"a\", newline='')\n",
    "    euromillionsSpecificResultsfile = open(\"C:\\\\Users\\\\svre257\\\\Documents\\\\Lesgeven Voorjaar 2020\\\\UGent\\\\Big Data Science\\\\Project\\\\euromillionsSpecificResults_final.csv\", \"a\", newline='')\n",
    "except IOError as error:\n",
    "    print(\"Error: Cannot open the file for processing.\")\n",
    "\n",
    "\n",
    "import datetime\n",
    "from datetime import date\n",
    "\n",
    "d = datetime.date(2018, 12, 28)\n",
    "\n",
    "while (d < date.today()):\n",
    "    if (d.weekday() == 4):\n",
    "        d = d + datetime.timedelta(days=4)\n",
    "    elif (d.weekday() == 1):\n",
    "        d = d + datetime.timedelta(days=3) \n",
    "    day_formatted = d.strftime(\"%d-%m-%Y\")\n",
    "    url_euromillions = 'https://www.euro-millions.com/results/' + day_formatted\n",
    "    if (d < date.today()):\n",
    "        driver.get(url_euromillions)\n",
    "        getGlobalResults(day_formatted)\n",
    "        getSpecificResultsBelgium(day_formatted)\n",
    "        getSpecificResultsGB(day_formatted)\n",
    "        getSpecificResultsIE(day_formatted)    \n",
    "        getSpecificResultsFR(day_formatted)\n",
    "        getSpecificResultsES(day_formatted)\n",
    "        getSpecificResultsPT(day_formatted)\n",
    "        getSpecificResultsCH(day_formatted)\n",
    "        getSpecificResultsAT(day_formatted)\n",
    "        getSpecificResultsLU(day_formatted)\n",
    "        \n",
    "euromillionsGlobalResultsfile.close()\n",
    "euromillionsSpecificResultsfile.close()"
   ]
  },
  {
   "cell_type": "code",
   "execution_count": null,
   "metadata": {
    "collapsed": true
   },
   "outputs": [],
   "source": []
  }
 ],
 "metadata": {
  "kernelspec": {
   "display_name": "Python 3",
   "language": "python",
   "name": "python3"
  },
  "language_info": {
   "codemirror_mode": {
    "name": "ipython",
    "version": 3
   },
   "file_extension": ".py",
   "mimetype": "text/x-python",
   "name": "python",
   "nbconvert_exporter": "python",
   "pygments_lexer": "ipython3",
   "version": "3.6.1"
  }
 },
 "nbformat": 4,
 "nbformat_minor": 2
}
